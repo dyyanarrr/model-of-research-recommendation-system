{
 "cells": [
  {
   "cell_type": "code",
   "execution_count": 1,
   "metadata": {},
   "outputs": [],
   "source": [
    "import pandas as pd\n",
    "import array\n",
    "import matplotlib.pyplot as plt\n",
    "import numpy as np\n",
    "from sklearn.model_selection import train_test_split\n",
    "from sklearn.naive_bayes import GaussianNB\n",
    "from sklearn.metrics import confusion_matrix, accuracy_score, classification_report, plot_confusion_matrix\n",
    "from collections import Counter\n",
    "from imblearn.under_sampling import RandomUnderSampler\n",
    "from imblearn.pipeline import Pipeline\n",
    "from imblearn.over_sampling import SMOTE\n",
    "from sklearn.model_selection import GridSearchCV\n",
    "import seaborn as sns; sns.set()\n",
    "from scipy import stats\n",
    "from scipy.stats.stats import pearsonr\n",
    "from scipy.stats import linregress\n"
   ]
  },
  {
   "cell_type": "code",
   "execution_count": 2,
   "metadata": {},
   "outputs": [],
   "source": [
    "data = pd.read_csv(\"Data After Cleaning.csv\")"
   ]
  },
  {
   "cell_type": "code",
   "execution_count": 3,
   "metadata": {},
   "outputs": [],
   "source": [
    "#Feature Transformation\n",
    "data[[\"Analisis Numerik\", \"Logika\",\"Pemrograman Web\",\"Teknologi dan Aplikasi Mobile\",\"Keamanan Sistem Informasi\",\"Sistem Informasi Geografis\",\"Multimedia\",\"Data Warehouse\",\"Pengujian Perangkat Lunak\",\"Pemrosesan Bahasa Alami\",\"Manajemen Pengetahuan\",\"Aljabar Linear\", \"Dasar-Dasar Pemrograman\", \"Matematika\",\"Statistika dan Probabilitas\",\n",
    "        \"Matematika Diskrit\", \"Pemrograman Terstruktur\",\"Pengantar Organisasi Komputer\", \"Pengantar Sistem Digital\", \"Pengantar Sistem Informasi\", \"Rekayasa Perangkat Lunak\",\n",
    "        \"Sistem Operasi\", \"Interaksi Manusia dan Komputer\", \"Komunikasi Data dan Jaringan Komputer\", \"Basis Data\", \"Pemrograman Berorientasi Objek\", \"Struktur Data dan Algoritma\", \"Desain dan Analisis Algoritma\",\"Kecerdasan Buatan\",\"Proses Dan Kualitas Perangkat Lunak\",\"Analisis Dan Desain Sistem Informasi\",\"Tata Kelola Dan AUDIT TI\",\n",
    "        \"Pengenalan Pola\", \"Teori Bahasa dan Automata\", \"Manajemen Proyek\"]] = data[[\"Analisis Numerik\", \"Logika\",\"Pemrograman Web\",\"Teknologi dan Aplikasi Mobile\",\"Keamanan Sistem Informasi\",\"Sistem Informasi Geografis\",\"Multimedia\",\"Data Warehouse\",\"Pengujian Perangkat Lunak\",\"Pemrosesan Bahasa Alami\",\"Manajemen Pengetahuan\",\"Aljabar Linear\", \"Dasar-Dasar Pemrograman\", \"Matematika\",\"Statistika dan Probabilitas\",\n",
    "        \"Matematika Diskrit\", \"Pemrograman Terstruktur\",\"Pengantar Organisasi Komputer\", \"Pengantar Sistem Digital\", \"Pengantar Sistem Informasi\", \"Rekayasa Perangkat Lunak\",\n",
    "        \"Sistem Operasi\", \"Interaksi Manusia dan Komputer\", \"Komunikasi Data dan Jaringan Komputer\", \"Basis Data\", \"Pemrograman Berorientasi Objek\", \"Struktur Data dan Algoritma\", \"Desain dan Analisis Algoritma\",\"Kecerdasan Buatan\",\"Proses Dan Kualitas Perangkat Lunak\",\"Analisis Dan Desain Sistem Informasi\",\"Tata Kelola Dan AUDIT TI\",\n",
    "        \"Pengenalan Pola\", \"Teori Bahasa dan Automata\", \"Manajemen Proyek\"]].replace([\"A\",\"B+\",\"B\",\"C+\",\"C\",\"D\",\"E\"], [4,3.5,3,2.5,2,1,0])\n",
    "#data[\"kategori\"]=data[\"kategori\"].replace([\"AI\",\"AR\",\"Audit\",\"CVIS\",\"DSS\",\"Data Science\",\"Jaringan/Security\",\"Komputasi\",\"Mobile\",\"RPL\",\"SI\",\"SIG\",\"Sistem Pakar\",\"TKI\"], [1,2,3,4,5,6,7,8,9,10,11,12,13,14])"
   ]
  },
  {
   "cell_type": "markdown",
   "metadata": {},
   "source": [
    "with pd.ExcelWriter('path_to_file.xlsx') as writer:\n",
    "    data.to_excel(writer)"
   ]
  },
  {
   "cell_type": "code",
   "execution_count": 4,
   "metadata": {},
   "outputs": [],
   "source": [
    "#Korelasi\n",
    "#plt.figure(figsize=(50,45))\n",
    "#korelasi=data.corr()\n",
    "\n",
    "#matrix = np.triu(data.corr())\n",
    "#sns.heatmap(korelasi, annot = True, mask=matrix, vmin=-1, vmax=1, center= 0)\n",
    "#plt.savefig('yourTitle.png')\n",
    "#plt.show()\n",
    "#data=data.drop(['statistika','kec_buatan','pkpl','aplikasi_mobile','ppl','sistem_operasi','logika','daa','logika','pemweb','pba','psi','strukdat','adsi'], axis = 1)\n"
   ]
  },
  {
   "cell_type": "code",
   "execution_count": 5,
   "metadata": {},
   "outputs": [],
   "source": [
    "data=data.drop(['Statistika dan Probabilitas'], axis = 1)"
   ]
  },
  {
   "cell_type": "code",
   "execution_count": 6,
   "metadata": {},
   "outputs": [],
   "source": [
    "#Korelasi\n",
    "#plt.figure(figsize=(50,45))\n",
    "#korelasi=data.corr()\n",
    "\n",
    "#matrix = np.triu(data.corr())\n",
    "#sns.heatmap(korelasi, annot = True, mask=matrix, vmin=-1, vmax=1, center= 0)\n",
    "#plt.savefig('AFTER KORELASI.png')\n",
    "#plt.show()\n",
    "#data=data.drop(['statistika','kec_buatan','pkpl','aplikasi_mobile','ppl','sistem_operasi','logika','daa','logika','pemweb','pba','psi','strukdat','adsi'], axis = 1)\n"
   ]
  },
  {
   "cell_type": "code",
   "execution_count": null,
   "metadata": {},
   "outputs": [],
   "source": []
  },
  {
   "cell_type": "code",
   "execution_count": 7,
   "metadata": {},
   "outputs": [
    {
     "name": "stdout",
     "output_type": "stream",
     "text": [
      "Counter({'Sistem Informasi': 53, 'Mobile': 31, 'Sistem Pakar': 30, 'Rekayasa Perangkat Lunak': 23, 'Audit': 19, 'Computer Vision': 15, 'Sistem Informasi Geografi': 12, 'Decision Support Systems': 12, 'Komputasi': 10, 'Augmented Reality': 10, 'Jaringan/Security': 8, 'Data Science': 6, 'Temu Kembali Informasi': 6, 'Artificial Intelligence': 5})\n"
     ]
    }
   ],
   "source": [
    "# Variabel independen\n",
    "x = data.drop([\"Kategori\"], axis = 1)\n",
    "# Variabel dependen\n",
    "y = data[\"Kategori\"]\n",
    "#y,levels = pd.factorize(data['Kategori'])\n",
    "counter = Counter(y)\n",
    "print(counter)"
   ]
  },
  {
   "cell_type": "code",
   "execution_count": null,
   "metadata": {},
   "outputs": [],
   "source": []
  },
  {
   "cell_type": "code",
   "execution_count": 20,
   "metadata": {},
   "outputs": [
    {
     "data": {
      "text/plain": [
       "<AxesSubplot:xlabel='Kategori', ylabel='count'>"
      ]
     },
     "execution_count": 20,
     "metadata": {},
     "output_type": "execute_result"
    },
    {
     "data": {
      "image/png": "[encoded data removed]",
      "text/plain": [
       "<Figure size 432x288 with 1 Axes>"
      ]
     },
     "metadata": {},
     "output_type": "display_data"
    }
   ],
   "source": [
    "#BEFORE SMOTE\n",
    "#plt.figure(figsize=(10,12))\n",
    "sns.countplot(x='Kategori',data=data, color='b')\n",
    "#plt.xlabel('Kategori', size=14)\n",
    "#plt.ylabel('Jumlah', size=14)\n",
    "#plt.xticks(rotation = 45, ha = 'right')\n",
    "#plt.savefig('beforeSmote.png')"
   ]
  },
  {
   "cell_type": "code",
   "execution_count": 9,
   "metadata": {},
   "outputs": [
    {
     "name": "stdout",
     "output_type": "stream",
     "text": [
      "Counter({'Mobile': 53, 'Data Science': 53, 'Rekayasa Perangkat Lunak': 53, 'Komputasi': 53, 'Sistem Informasi': 53, 'Sistem Informasi Geografi': 53, 'Jaringan/Security': 53, 'Temu Kembali Informasi': 53, 'Sistem Pakar': 53, 'Decision Support Systems': 53, 'Artificial Intelligence': 53, 'Audit': 53, 'Computer Vision': 53, 'Augmented Reality': 53})\n"
     ]
    }
   ],
   "source": [
    "#Smote\n",
    "k=3\n",
    "sm= SMOTE(k_neighbors=k, random_state=42)\n",
    "x, y =sm.fit_resample(x, y)\n",
    "counter = Counter(y)\n",
    "print(counter)"
   ]
  },
  {
   "cell_type": "code",
   "execution_count": 10,
   "metadata": {},
   "outputs": [],
   "source": [
    "#Setelah SMOTE\n",
    "#count = y.value_counts()\n",
    "#plt.figure(figsize=(10, 12))\n",
    "\n",
    "# create bar plot\n",
    "#plt.bar(['Mobile','Data Science','RPL','Komputasi','SI','SIG','Jaringan/Security','TKI','Sistem Pakar','DSS','AI','Audit','CVIS','AR'], count, color='b')\n",
    "\n",
    "#plt.xlabel('Kategori', size=14)\n",
    "#plt.ylabel('Jumlah', size=14)\n",
    "#plt.xticks(rotation = 45, ha = 'right')\n",
    "#plt.savefig('afterSmote.png')\n",
    "#plt.show()"
   ]
  },
  {
   "cell_type": "code",
   "execution_count": 11,
   "metadata": {},
   "outputs": [],
   "source": [
    "x_train, x_test, y_train, y_test = train_test_split(x, y, stratify=y, test_size = 0.1, random_state=0)\n",
    "#counter = Counter(y)\n",
    "#print(counter "
   ]
  },
  {
   "cell_type": "code",
   "execution_count": 12,
   "metadata": {},
   "outputs": [],
   "source": [
    "#Pipeline menyimpan semua tahapan alur kerja sebagai satu objek yang dapat dipanggil dengan metode fit and predict. Saat Anda menjalankan metode fit pada objek pipeline, langkah-langkah preprocessing dan model training dilakukan secara otomatis.\n",
    "\n",
    "#pipeline = Pipeline([\n",
    "#    ('clf', GaussianNB())\n",
    "#])\n",
    "clf = GaussianNB()\n",
    "\n",
    "parameters = {\n",
    "    #'var_smoothing': np.logspace(0,-9, num=100)\n",
    "    'var_smoothing': [1e-2, 1e-3, 1e-4, 1e-5, 1e-6, 1e-7, 1e-8, 1e-9, 1e-10, 1e-11]\n",
    "}"
   ]
  },
  {
   "cell_type": "code",
   "execution_count": 13,
   "metadata": {},
   "outputs": [],
   "source": [
    "#GridSearchCV\n",
    "model = GridSearchCV(clf, parameters, cv=10, n_jobs=-1, verbose=1)"
   ]
  },
  {
   "cell_type": "code",
   "execution_count": 14,
   "metadata": {},
   "outputs": [
    {
     "name": "stdout",
     "output_type": "stream",
     "text": [
      "Fitting 10 folds for each of 10 candidates, totalling 100 fits\n"
     ]
    },
    {
     "data": {
      "text/plain": [
       "GridSearchCV(cv=10, estimator=GaussianNB(), n_jobs=-1,\n",
       "             param_grid={'var_smoothing': [0.01, 0.001, 0.0001, 1e-05, 1e-06,\n",
       "                                           1e-07, 1e-08, 1e-09, 1e-10, 1e-11]},\n",
       "             verbose=1)"
      ]
     },
     "execution_count": 14,
     "metadata": {},
     "output_type": "execute_result"
    }
   ],
   "source": [
    "model.fit(x_train, y_train)"
   ]
  },
  {
   "cell_type": "code",
   "execution_count": 15,
   "metadata": {},
   "outputs": [
    {
     "data": {
      "text/html": [
       "<div>\n",
       "<style scoped>\n",
       "    .dataframe tbody tr th:only-of-type {\n",
       "        vertical-align: middle;\n",
       "    }\n",
       "\n",
       "    .dataframe tbody tr th {\n",
       "        vertical-align: top;\n",
       "    }\n",
       "\n",
       "    .dataframe thead th {\n",
       "        text-align: right;\n",
       "    }\n",
       "</style>\n",
       "<table border=\"1\" class=\"dataframe\">\n",
       "  <thead>\n",
       "    <tr style=\"text-align: right;\">\n",
       "      <th></th>\n",
       "      <th>params</th>\n",
       "      <th>rank_test_score</th>\n",
       "      <th>mean_test_score</th>\n",
       "      <th>std_test_score</th>\n",
       "    </tr>\n",
       "    <tr>\n",
       "      <th>var_smoothing</th>\n",
       "      <th></th>\n",
       "      <th></th>\n",
       "      <th></th>\n",
       "      <th></th>\n",
       "    </tr>\n",
       "  </thead>\n",
       "  <tbody>\n",
       "    <tr>\n",
       "      <th>1e-08</th>\n",
       "      <td>{'var_smoothing': 1e-08}</td>\n",
       "      <td>1</td>\n",
       "      <td>0.545613</td>\n",
       "      <td>0.058409</td>\n",
       "    </tr>\n",
       "    <tr>\n",
       "      <th>1e-09</th>\n",
       "      <td>{'var_smoothing': 1e-09}</td>\n",
       "      <td>2</td>\n",
       "      <td>0.544120</td>\n",
       "      <td>0.059169</td>\n",
       "    </tr>\n",
       "    <tr>\n",
       "      <th>1e-07</th>\n",
       "      <td>{'var_smoothing': 1e-07}</td>\n",
       "      <td>3</td>\n",
       "      <td>0.544098</td>\n",
       "      <td>0.060137</td>\n",
       "    </tr>\n",
       "    <tr>\n",
       "      <th>0.001</th>\n",
       "      <td>{'var_smoothing': 0.001}</td>\n",
       "      <td>4</td>\n",
       "      <td>0.544075</td>\n",
       "      <td>0.057702</td>\n",
       "    </tr>\n",
       "    <tr>\n",
       "      <th>1e-10</th>\n",
       "      <td>{'var_smoothing': 1e-10}</td>\n",
       "      <td>5</td>\n",
       "      <td>0.542628</td>\n",
       "      <td>0.058756</td>\n",
       "    </tr>\n",
       "    <tr>\n",
       "      <th>0.0001</th>\n",
       "      <td>{'var_smoothing': 0.0001}</td>\n",
       "      <td>6</td>\n",
       "      <td>0.542583</td>\n",
       "      <td>0.057277</td>\n",
       "    </tr>\n",
       "    <tr>\n",
       "      <th>1e-05</th>\n",
       "      <td>{'var_smoothing': 1e-05}</td>\n",
       "      <td>7</td>\n",
       "      <td>0.541090</td>\n",
       "      <td>0.059491</td>\n",
       "    </tr>\n",
       "    <tr>\n",
       "      <th>1e-06</th>\n",
       "      <td>{'var_smoothing': 1e-06}</td>\n",
       "      <td>7</td>\n",
       "      <td>0.541090</td>\n",
       "      <td>0.058737</td>\n",
       "    </tr>\n",
       "    <tr>\n",
       "      <th>0.01</th>\n",
       "      <td>{'var_smoothing': 0.01}</td>\n",
       "      <td>9</td>\n",
       "      <td>0.539575</td>\n",
       "      <td>0.061009</td>\n",
       "    </tr>\n",
       "    <tr>\n",
       "      <th>1e-11</th>\n",
       "      <td>{'var_smoothing': 1e-11}</td>\n",
       "      <td>10</td>\n",
       "      <td>0.538150</td>\n",
       "      <td>0.055688</td>\n",
       "    </tr>\n",
       "  </tbody>\n",
       "</table>\n",
       "</div>"
      ],
      "text/plain": [
       "                                  params  rank_test_score  mean_test_score  \\\n",
       "var_smoothing                                                                \n",
       "1e-08           {'var_smoothing': 1e-08}                1         0.545613   \n",
       "1e-09           {'var_smoothing': 1e-09}                2         0.544120   \n",
       "1e-07           {'var_smoothing': 1e-07}                3         0.544098   \n",
       "0.001           {'var_smoothing': 0.001}                4         0.544075   \n",
       "1e-10           {'var_smoothing': 1e-10}                5         0.542628   \n",
       "0.0001         {'var_smoothing': 0.0001}                6         0.542583   \n",
       "1e-05           {'var_smoothing': 1e-05}                7         0.541090   \n",
       "1e-06           {'var_smoothing': 1e-06}                7         0.541090   \n",
       "0.01             {'var_smoothing': 0.01}                9         0.539575   \n",
       "1e-11           {'var_smoothing': 1e-11}               10         0.538150   \n",
       "\n",
       "               std_test_score  \n",
       "var_smoothing                  \n",
       "1e-08                0.058409  \n",
       "1e-09                0.059169  \n",
       "1e-07                0.060137  \n",
       "0.001                0.057702  \n",
       "1e-10                0.058756  \n",
       "0.0001               0.057277  \n",
       "1e-05                0.059491  \n",
       "1e-06                0.058737  \n",
       "0.01                 0.061009  \n",
       "1e-11                0.055688  "
      ]
     },
     "execution_count": 15,
     "metadata": {},
     "output_type": "execute_result"
    }
   ],
   "source": [
    "results_df = pd.DataFrame(model.cv_results_)\n",
    "results_df = results_df.sort_values(by=['rank_test_score'])\n",
    "results_df = (\n",
    "    results_df\n",
    "    .set_index(results_df[\"params\"].apply(\n",
    "        lambda x: \"_\".join(str(val) for val in x.values()))\n",
    "    )\n",
    "    .rename_axis('var_smoothing')\n",
    ")\n",
    "results_df[\n",
    "    ['params', 'rank_test_score', 'mean_test_score', 'std_test_score']\n",
    "]"
   ]
  },
  {
   "cell_type": "code",
   "execution_count": 16,
   "metadata": {},
   "outputs": [
    {
     "data": {
      "text/plain": [
       "0.5456128448665762"
      ]
     },
     "execution_count": 16,
     "metadata": {},
     "output_type": "execute_result"
    }
   ],
   "source": [
    "model.best_score_"
   ]
  },
  {
   "cell_type": "code",
   "execution_count": 17,
   "metadata": {},
   "outputs": [
    {
     "data": {
      "text/plain": [
       "GaussianNB(var_smoothing=1e-08)"
      ]
     },
     "execution_count": 17,
     "metadata": {},
     "output_type": "execute_result"
    }
   ],
   "source": [
    "model.best_estimator_"
   ]
  },
  {
   "cell_type": "code",
   "execution_count": 18,
   "metadata": {},
   "outputs": [
    {
     "data": {
      "text/plain": [
       "{'var_smoothing': 1e-08}"
      ]
     },
     "execution_count": 18,
     "metadata": {},
     "output_type": "execute_result"
    }
   ],
   "source": [
    "model.best_params_"
   ]
  },
  {
   "cell_type": "markdown",
   "metadata": {},
   "source": [
    "model.cv_results_"
   ]
  },
  {
   "cell_type": "markdown",
   "metadata": {},
   "source": [
    "#Confusion Matrix\n",
    "y_pred = model.predict(x)\n",
    "confusion_matrix(levels[y],levels[y_pred])\n",
    "print(classification_report(levels[y],levels[y_pred]))\n",
    "print(accuracy_score(y, y_pred))\n",
    "#print(confusion_matrix(levels[y_test],levels[y_pred]))"
   ]
  },
  {
   "cell_type": "code",
   "execution_count": 19,
   "metadata": {
    "scrolled": true
   },
   "outputs": [
    {
     "name": "stdout",
     "output_type": "stream",
     "text": [
      "                           precision    recall  f1-score   support\n",
      "\n",
      "  Artificial Intelligence       0.71      0.83      0.77         6\n",
      "                    Audit       0.50      0.40      0.44         5\n",
      "        Augmented Reality       0.27      0.60      0.37         5\n",
      "          Computer Vision       0.62      0.83      0.71         6\n",
      "             Data Science       0.83      1.00      0.91         5\n",
      " Decision Support Systems       1.00      0.67      0.80         6\n",
      "        Jaringan/Security       0.83      1.00      0.91         5\n",
      "                Komputasi       0.50      0.80      0.62         5\n",
      "                   Mobile       0.00      0.00      0.00         5\n",
      " Rekayasa Perangkat Lunak       1.00      0.40      0.57         5\n",
      "         Sistem Informasi       0.50      0.17      0.25         6\n",
      "Sistem Informasi Geografi       0.33      0.40      0.36         5\n",
      "             Sistem Pakar       0.29      0.33      0.31         6\n",
      "   Temu Kembali Informasi       0.67      0.40      0.50         5\n",
      "\n",
      "                 accuracy                           0.56        75\n",
      "                macro avg       0.58      0.56      0.54        75\n",
      "             weighted avg       0.58      0.56      0.54        75\n",
      "\n",
      "0.56\n"
     ]
    }
   ],
   "source": [
    "y_pred = model.predict(x_test)\n",
    "confusion_matrix(y_test,y_pred)\n",
    "print(classification_report(y_test,y_pred))\n",
    "print(accuracy_score(y_test, y_pred))"
   ]
  },
  {
   "cell_type": "code",
   "execution_count": 20,
   "metadata": {},
   "outputs": [
    {
     "data": {
      "text/plain": [
       "<AxesSubplot:>"
      ]
     },
     "execution_count": 20,
     "metadata": {},
     "output_type": "execute_result"
    },
    {
     "data": {
      "image/png": "[encoded data removed]",
      "text/plain": [
       "<Figure size 432x288 with 2 Axes>"
      ]
     },
     "metadata": {},
     "output_type": "display_data"
    }
   ],
   "source": [
    "cf_matrix = confusion_matrix(y_test,y_pred)\n",
    "sns.heatmap(cf_matrix, linewidths=1, annot=True, fmt='g')"
   ]
  },
  {
   "cell_type": "code",
   "execution_count": 21,
   "metadata": {},
   "outputs": [
    {
     "data": {
      "text/plain": [
       "<function matplotlib.pyplot.show(close=None, block=None)>"
      ]
     },
     "execution_count": 21,
     "metadata": {},
     "output_type": "execute_result"
    },
    {
     "data": {
      "image/png": "[encoded data removed]",
      "text/plain": [
       "<Figure size 1512x1512 with 2 Axes>"
      ]
     },
     "metadata": {},
     "output_type": "display_data"
    }
   ],
   "source": [
    "fig, ax = plt.subplots(figsize=(21,21)) \n",
    "cnf = pd.crosstab(y_test,y_pred)\n",
    "gn=sns.heatmap(cnf, linewidths=1, annot=True, ax=ax, fmt='g')\n",
    "gn.set(xlabel='Predicted')\n",
    "gn.set(ylabel='Actual')\n",
    "plt.savefig('cm.png')\n",
    "plt.show"
   ]
  },
  {
   "cell_type": "markdown",
   "metadata": {},
   "source": [
    "pd.DataFrame(model.cv_results_).sort_values(\"rank_test_score\")"
   ]
  },
  {
   "cell_type": "code",
   "execution_count": 22,
   "metadata": {},
   "outputs": [
    {
     "data": {
      "text/html": [
       "<div>\n",
       "<style scoped>\n",
       "    .dataframe tbody tr th:only-of-type {\n",
       "        vertical-align: middle;\n",
       "    }\n",
       "\n",
       "    .dataframe tbody tr th {\n",
       "        vertical-align: top;\n",
       "    }\n",
       "\n",
       "    .dataframe thead th {\n",
       "        text-align: right;\n",
       "    }\n",
       "</style>\n",
       "<table border=\"1\" class=\"dataframe\">\n",
       "  <thead>\n",
       "    <tr style=\"text-align: right;\">\n",
       "      <th></th>\n",
       "      <th>Analisis Numerik</th>\n",
       "      <th>Logika</th>\n",
       "      <th>Pemrograman Web</th>\n",
       "      <th>Teknologi dan Aplikasi Mobile</th>\n",
       "      <th>Keamanan Sistem Informasi</th>\n",
       "      <th>Sistem Informasi Geografis</th>\n",
       "      <th>Multimedia</th>\n",
       "      <th>Data Warehouse</th>\n",
       "      <th>Pengujian Perangkat Lunak</th>\n",
       "      <th>Pemrosesan Bahasa Alami</th>\n",
       "      <th>...</th>\n",
       "      <th>Pemrograman Berorientasi Objek</th>\n",
       "      <th>Struktur Data dan Algoritma</th>\n",
       "      <th>Desain dan Analisis Algoritma</th>\n",
       "      <th>Kecerdasan Buatan</th>\n",
       "      <th>Proses Dan Kualitas Perangkat Lunak</th>\n",
       "      <th>Analisis Dan Desain Sistem Informasi</th>\n",
       "      <th>Tata Kelola Dan AUDIT TI</th>\n",
       "      <th>Pengenalan Pola</th>\n",
       "      <th>Teori Bahasa dan Automata</th>\n",
       "      <th>Manajemen Proyek</th>\n",
       "    </tr>\n",
       "  </thead>\n",
       "  <tbody>\n",
       "    <tr>\n",
       "      <th>0</th>\n",
       "      <td>4</td>\n",
       "      <td>4</td>\n",
       "      <td>3</td>\n",
       "      <td>4</td>\n",
       "      <td>4</td>\n",
       "      <td>4</td>\n",
       "      <td>2.5</td>\n",
       "      <td>3</td>\n",
       "      <td>2.5</td>\n",
       "      <td>0</td>\n",
       "      <td>...</td>\n",
       "      <td>4</td>\n",
       "      <td>4</td>\n",
       "      <td>3.5</td>\n",
       "      <td>4</td>\n",
       "      <td>3</td>\n",
       "      <td>0</td>\n",
       "      <td>4</td>\n",
       "      <td>0</td>\n",
       "      <td>0</td>\n",
       "      <td>0</td>\n",
       "    </tr>\n",
       "  </tbody>\n",
       "</table>\n",
       "<p>1 rows × 34 columns</p>\n",
       "</div>"
      ],
      "text/plain": [
       "  Analisis Numerik Logika Pemrograman Web Teknologi dan Aplikasi Mobile  \\\n",
       "0                4      4               3                             4   \n",
       "\n",
       "  Keamanan Sistem Informasi Sistem Informasi Geografis Multimedia  \\\n",
       "0                         4                          4        2.5   \n",
       "\n",
       "  Data Warehouse Pengujian Perangkat Lunak Pemrosesan Bahasa Alami  ...  \\\n",
       "0              3                       2.5                       0  ...   \n",
       "\n",
       "  Pemrograman Berorientasi Objek Struktur Data dan Algoritma  \\\n",
       "0                              4                           4   \n",
       "\n",
       "  Desain dan Analisis Algoritma Kecerdasan Buatan  \\\n",
       "0                           3.5                 4   \n",
       "\n",
       "  Proses Dan Kualitas Perangkat Lunak Analisis Dan Desain Sistem Informasi  \\\n",
       "0                                   3                                    0   \n",
       "\n",
       "  Tata Kelola Dan AUDIT TI Pengenalan Pola Teori Bahasa dan Automata  \\\n",
       "0                        4               0                         0   \n",
       "\n",
       "  Manajemen Proyek  \n",
       "0                0  \n",
       "\n",
       "[1 rows x 34 columns]"
      ]
     },
     "execution_count": 22,
     "metadata": {},
     "output_type": "execute_result"
    }
   ],
   "source": [
    "list_data= [['4','4','3','4','4','4','2.5','3','2.5','0','4','2','2','4','3.5','3','4','4','4','3','4','3','3','3.5',\n",
    "            '4','4','3.5','4','3','0','4','0','0','0']]\n",
    "data_uji=pd.DataFrame(list_data,columns=[\"Analisis Numerik\",\"Logika\",\"Pemrograman Web\",\"Teknologi dan Aplikasi Mobile\",\"Keamanan Sistem Informasi\",\"Sistem Informasi Geografis\",\"Multimedia\",\"Data Warehouse\",\"Pengujian Perangkat Lunak\",\"Pemrosesan Bahasa Alami\",\"Manajemen Pengetahuan\",\"Aljabar Linear\", \"Dasar-Dasar Pemrograman\", \"Matematika\",\n",
    "        \"Matematika Diskrit\", \"Pemrograman Terstruktur\",\"Pengantar Organisasi Komputer\", \"Pengantar Sistem Digital\", \"Pengantar Sistem Informasi\", \"Rekayasa Perangkat Lunak\",\n",
    "        \"Sistem Operasi\", \"Interaksi Manusia dan Komputer\", \"Komunikasi Data dan Jaringan Komputer\", \"Basis Data\", \"Pemrograman Berorientasi Objek\", \"Struktur Data dan Algoritma\", \"Desain dan Analisis Algoritma\",\"Kecerdasan Buatan\",\"Proses Dan Kualitas Perangkat Lunak\",\"Analisis Dan Desain Sistem Informasi\",\"Tata Kelola Dan AUDIT TI\",\n",
    "        \"Pengenalan Pola\", \"Teori Bahasa dan Automata\", \"Manajemen Proyek\"])\n",
    "data_uji"
   ]
  },
  {
   "cell_type": "code",
   "execution_count": 23,
   "metadata": {},
   "outputs": [
    {
     "name": "stdout",
     "output_type": "stream",
     "text": [
      "['Sistem Pakar']\n"
     ]
    }
   ],
   "source": [
    "y_pred_uji=model.predict(data_uji)\n",
    "print(y_pred_uji)"
   ]
  },
  {
   "cell_type": "code",
   "execution_count": null,
   "metadata": {},
   "outputs": [],
   "source": []
  },
  {
   "cell_type": "code",
   "execution_count": null,
   "metadata": {},
   "outputs": [],
   "source": []
  }
 ],
 "metadata": {
  "kernelspec": {
   "display_name": "Python 3",
   "language": "python",
   "name": "python3"
  },
  "language_info": {
   "codemirror_mode": {
    "name": "ipython",
    "version": 3
   },
   "file_extension": ".py",
   "mimetype": "text/x-python",
   "name": "python",
   "nbconvert_exporter": "python",
   "pygments_lexer": "ipython3",
   "version": "3.8.5"
  }
 },
 "nbformat": 4,
 "nbformat_minor": 4
}
